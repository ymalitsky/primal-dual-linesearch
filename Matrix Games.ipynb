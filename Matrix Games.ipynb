{
 "cells": [
  {
   "cell_type": "markdown",
   "metadata": {},
   "source": [
    "## Matrix Games\n",
    "$\\newcommand{\\n}[1]{\\left\\|#1 \\right\\|}$ \n",
    "$\\renewcommand{\\a}{\\alpha}             $ \n",
    "$\\renewcommand{\\b}{\\beta}              $ \n",
    "$\\renewcommand{\\c}{\\gamma}             $ \n",
    "$\\renewcommand{\\d}{\\delta}             $ \n",
    "$\\newcommand{\\D}{\\Delta}               $ \n",
    "$\\newcommand{\\la}{\\lambda}             $ \n",
    "$\\renewcommand{\\t}{\\tau}               $ \n",
    "$\\newcommand{\\s}{\\sigma}               $ \n",
    "$\\newcommand{\\e}{\\varepsilon}          $ \n",
    "$\\renewcommand{\\th}{\\theta}            $ \n",
    "$\\newcommand{\\x}{\\bar x}               $ \n",
    "$\\newcommand{\\R}{\\mathbb R}            $ \n",
    "$\\newcommand{\\N}{\\mathbb N}            $ \n",
    "$\\newcommand{\\Z}{\\mathbb Z}            $ \n",
    "$\\newcommand{\\E}{\\mathcal E}           $ \n",
    "$\\newcommand{\\lr}[1]{\\left\\langle #1\\right\\rangle}$\n",
    "$\\newcommand{\\nf}[1]{\\nabla f(#1)}     $\n",
    "$\\newcommand{\\hx}{\\hat x}               $\n",
    "$\\newcommand{\\hy}{\\hat y}               $\n",
    "$\\DeclareMathOperator{\\prox}{prox}      $\n",
    "$\\DeclareMathOperator{\\argmin}{argmin}  $\n",
    "$\\DeclareMathOperator{\\dom}{dom}        $\n",
    "$\\DeclareMathOperator{\\id}{Id}          $\n",
    "$\\DeclareMathOperator{\\conv}{conv}      $\n",
    "\n",
    "We are interested in the following min-max matrix game\n",
    "\\begin{equation}\n",
    "    \\min_{x \\in \\D_n}\\max_{y\\in \\D_m} \\lr{Ax, y},\n",
    "\\end{equation}\n",
    "where $x\\in \\R^n$, $y\\in \\R^m$, $A\\in \\R^{m\\times n}$, and $\\Delta_m$,\n",
    "$\\D_n$ denote the standard unit simplices in $\\R^m$ and $\\R^n$\n",
    "respectively.\n",
    "\n",
    "The variational inequality formulation for this problem is:\n",
    "$$\\lr{F(z^*),z-z^*} + G(z) - G(z^*) \\geq 0 \\quad \\forall z \\in Z,$$\n",
    "where \n",
    "$$Z = \\R^n\\times \\R^m,\\quad z=\\binom{x}{y},\\quad F = \\begin{bmatrix} 0 & A^*\\\\ -A & 0\\end{bmatrix}, \\quad G(z) = \\d_{\\D_n}(x) + \\d_{\\D_m}(y)$$\n"
   ]
  },
  {
   "cell_type": "code",
   "execution_count": 2,
   "metadata": {
    "collapsed": false
   },
   "outputs": [],
   "source": [
    "import matplotlib.pyplot as plt\n",
    "import scipy.sparse as spr\n",
    "import scipy.sparse.linalg as la\n",
    "\n",
    "from opt_operators import *\n",
    "from algorithms import *\n",
    "from pd_algorithms import *\n",
    "from misc_for_output import *\n",
    "\n",
    "%reload_ext autoreload\n",
    "%autoreload 2"
   ]
  },
  {
   "cell_type": "markdown",
   "metadata": {},
   "source": [
    "Choose any generator for random generation of data. In the paper we set gen = 100"
   ]
  },
  {
   "cell_type": "code",
   "execution_count": 4,
   "metadata": {
    "collapsed": true
   },
   "outputs": [],
   "source": [
    "gen = 100"
   ]
  },
  {
   "cell_type": "markdown",
   "metadata": {},
   "source": [
    "Define matrix $A\\in \\R^{m\\times n}$ (choose one of four possible examples below or generate a new instance):"
   ]
  },
  {
   "cell_type": "code",
   "execution_count": null,
   "metadata": {
    "collapsed": true
   },
   "outputs": [],
   "source": [
    "m = 100\n",
    "n = 100\n",
    "np.random.seed(gen)\n",
    "A = np.random.uniform(-1, 1, [m,n])"
   ]
  },
  {
   "cell_type": "code",
   "execution_count": null,
   "metadata": {
    "collapsed": false
   },
   "outputs": [],
   "source": [
    "m = 100\n",
    "n = 100\n",
    "np.random.seed(gen)\n",
    "A = np.random.normal(0, 1, [m, n])"
   ]
  },
  {
   "cell_type": "code",
   "execution_count": 5,
   "metadata": {
    "collapsed": false
   },
   "outputs": [],
   "source": [
    "m = 500\n",
    "n = 100\n",
    "np.random.seed(gen)\n",
    "A = np.random.normal(0, 10, [m, n])"
   ]
  },
  {
   "cell_type": "code",
   "execution_count": null,
   "metadata": {
    "collapsed": true
   },
   "outputs": [],
   "source": [
    "m = 1000\n",
    "n = 2000\n",
    "np.random.seed(gen)\n",
    "A = spr.rand(m,n,0.1, 'csr')"
   ]
  },
  {
   "cell_type": "markdown",
   "metadata": {},
   "source": [
    "Define the initial points $x^0$ and $y^0$"
   ]
  },
  {
   "cell_type": "code",
   "execution_count": 6,
   "metadata": {
    "collapsed": true
   },
   "outputs": [],
   "source": [
    "x0 = np.ones(n)/n\n",
    "y0 = np.ones(m)/m\n",
    "z0 = np.hstack((x0, y0))"
   ]
  },
  {
   "cell_type": "markdown",
   "metadata": {},
   "source": [
    "Define all proximal operators, primal-dual gap, etc."
   ]
  },
  {
   "cell_type": "code",
   "execution_count": 7,
   "metadata": {
    "collapsed": false
   },
   "outputs": [],
   "source": [
    "# define general proximal operator. Note that it is independent of \n",
    "# the dimension, so we will use it for both primal and dual variables\n",
    "def prox_g(x, rho):\n",
    "    return proj_simplex(x)\n",
    "\n",
    "# define primal-dual gap\n",
    "def J_gap(x,y):\n",
    "    return max(A.dot(x)) - min(A.T.dot(y))\n",
    "\n",
    "\n",
    "### For variational inequalities formulation (Tseng FBF method and PEGM)\n",
    "\n",
    "def F(z):\n",
    "    u1 = A.T.dot(z[n:])\n",
    "    u2 = -A.dot(z[:n])\n",
    "    return np.hstack((u1, u2))\n",
    "\n",
    "def prox_G(z, rho):\n",
    "    u1 = proj_simplex(z[:n])\n",
    "    u2 = proj_simplex(z[n:])\n",
    "    return np.hstack((u1, u2))\n",
    "\n",
    "def J_vip(z):\n",
    "    return J_gap(z[:n], z[n:])"
   ]
  },
  {
   "cell_type": "markdown",
   "metadata": {},
   "source": [
    "Compute the matrix norm of operator $A$."
   ]
  },
  {
   "cell_type": "code",
   "execution_count": 8,
   "metadata": {
    "collapsed": false
   },
   "outputs": [],
   "source": [
    "L = np.sqrt(np.max(LA.eigh(A.dot(A.T))[0])) # this is for dense matrix\n",
    "#L = np.sqrt(np.max(la.eigsh(A.dot(A.T))[0])) # this is for sparse matrix"
   ]
  },
  {
   "cell_type": "markdown",
   "metadata": {},
   "source": [
    "Define stepsizes for primal-dual method. For PDAL we use a simple guess $\\t_0 =\\frac{\\sqrt{\\min\\{m,n\\}}}{||A||_F}$, which is easy to compute"
   ]
  },
  {
   "cell_type": "code",
   "execution_count": 9,
   "metadata": {
    "collapsed": false,
    "scrolled": true
   },
   "outputs": [],
   "source": [
    "tau = 1./L\n",
    "sigma = 1./L\n",
    "\n",
    "tau0 = np.sqrt(min(m,n))/LA.norm(A) # for dense matrix\n",
    "#tau0 = np.sqrt(min(m,n))/la.norm(A, 'fro') # for sparse matrix\n"
   ]
  },
  {
   "cell_type": "markdown",
   "metadata": {
    "collapsed": false
   },
   "source": [
    "Define number of iterations:"
   ]
  },
  {
   "cell_type": "code",
   "execution_count": 16,
   "metadata": {
    "collapsed": false
   },
   "outputs": [],
   "source": [
    "N = 100000"
   ]
  },
  {
   "cell_type": "markdown",
   "metadata": {},
   "source": [
    "Run the algorithms: PDA, PDAL, Tseng FBF method, and PEGM:"
   ]
  },
  {
   "cell_type": "code",
   "execution_count": 17,
   "metadata": {
    "collapsed": false,
    "scrolled": true
   },
   "outputs": [
    {
     "name": "stdout",
     "output_type": "stream",
     "text": [
      "----- Primal-dual method -----\n",
      "Time execution: 260.641388\n",
      "----- Primal-dual method with linesearch-----\n",
      "Time execution: 407.54241243900003\n",
      "---- FBF ----\n",
      "Number of iterations: 100000\n",
      "Number of gradients, n_grad: 294339\n",
      "Number of prox_g: 194338\n",
      "Time execution: 523.609953901\n",
      "---- Alg. 2, affine operator ----\n",
      "Number of iterations: 100000\n",
      "Number of gradients, n_grad: 100002\n",
      "Number of prox_g: 100000\n",
      "Time execution: 307.53340444800006\n"
     ]
    }
   ],
   "source": [
    "ans1 = pd(J_gap, prox_g, prox_g, A, x0, y0, sigma, tau, numb_iter=N)\n",
    "ans2 = pd_linesearch(J_gap, prox_g, prox_g, A, x0,y0, tau0, 1,   numb_iter=N)\n",
    "ans3 = tseng_fbf_linesearch(J_vip, F, prox_G, z0, delta=1.4, numb_iter=N)\n",
    "ans4 = alg_VI_prox_affine(J_vip, F, prox_G, z0, numb_iter=N)"
   ]
  },
  {
   "cell_type": "markdown",
   "metadata": {},
   "source": [
    "Quick plots of the primal-dual gap vs. number of iterations:"
   ]
  },
  {
   "cell_type": "code",
   "execution_count": 18,
   "metadata": {
    "collapsed": false
   },
   "outputs": [
    {
     "data": {
      "image/png": "[encoded data removed]",
      "text/plain": [
       "<matplotlib.figure.Figure at 0x7f7475bb2828>"
      ]
     },
     "metadata": {},
     "output_type": "display_data"
    }
   ],
   "source": [
    "plt.plot(ans1[0],ans1[1], 'b',)\n",
    "plt.plot(ans2[0],ans2[1], 'r',)\n",
    "plt.plot(ans3[0],ans3[1], 'g',)\n",
    "plt.plot(ans4[0],ans4[1], 'm')\n",
    "plt.yscale('log')\n",
    "plt.show()"
   ]
  },
  {
   "cell_type": "code",
   "execution_count": 19,
   "metadata": {
    "collapsed": true
   },
   "outputs": [],
   "source": [
    "answers = [ans1, ans2, ans3, ans4]\n",
    "alg = [\"PDA\", \"PDAL\", \"FBF\", \"PEGM\"]\n",
    "\n",
    "time_stamp = 200"
   ]
  },
  {
   "cell_type": "code",
   "execution_count": 20,
   "metadata": {
    "collapsed": false
   },
   "outputs": [
    {
     "data": {
      "image/png": "[encoded data removed]",
      "text/plain": [
       "<matplotlib.figure.Figure at 0x7f7475ba1fd0>"
      ]
     },
     "metadata": {},
     "output_type": "display_data"
    }
   ],
   "source": [
    "a1,a2 = cut_time(ans1[0],ans1[1], t=time_stamp)\n",
    "b1,b2 = cut_time(ans2[0],ans2[1], t=time_stamp)\n",
    "c1,c2 = cut_time(ans3[0],ans3[1], t=time_stamp)\n",
    "d1,d2 = cut_time(ans4[0],ans4[1], t=time_stamp)\n",
    "\n",
    "\n",
    "plt.plot(a1, a2, 'b', label = alg[0])\n",
    "plt.plot(b1, b2, 'r', label = alg[1])\n",
    "plt.plot(c1, c2, 'g', label = alg[2])\n",
    "plt.plot(d1, d2, 'm', label = alg[3])\n",
    "plt.yscale('log')\n",
    "#plt.xscale('log')\n",
    "\n",
    "plt.xlabel(u'CPU time,  seconds')\n",
    "plt.ylabel(u'PD gap $\\mathcal{G}(x^k,y^k)$')\n",
    "\n",
    "\n",
    "plt.legend()\n",
    "plt.savefig('figures/minmax-?.pdf', bbox_inches='tight')\n",
    "plt.show()\n",
    "plt.clf()"
   ]
  },
  {
   "cell_type": "code",
   "execution_count": null,
   "metadata": {
    "collapsed": true
   },
   "outputs": [],
   "source": []
  }
 ],
 "metadata": {
  "kernelspec": {
   "display_name": "Python 3",
   "language": "python",
   "name": "python3"
  },
  "language_info": {
   "codemirror_mode": {
    "name": "ipython",
    "version": 3
   },
   "file_extension": ".py",
   "mimetype": "text/x-python",
   "name": "python",
   "nbconvert_exporter": "python",
   "pygments_lexer": "ipython3",
   "version": "3.5.2"
  }
 },
 "nbformat": 4,
 "nbformat_minor": 0
}
