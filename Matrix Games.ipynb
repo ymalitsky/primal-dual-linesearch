{
 "cells": [
  {
   "cell_type": "markdown",
   "metadata": {},
   "source": [
    "## Matrix Games\n",
    "$\\newcommand{\\n}[1]{\\left\\|#1 \\right\\|}$ \n",
    "$\\renewcommand{\\a}{\\alpha}             $ \n",
    "$\\renewcommand{\\b}{\\beta}              $ \n",
    "$\\renewcommand{\\c}{\\gamma}             $ \n",
    "$\\renewcommand{\\d}{\\delta}             $ \n",
    "$\\newcommand{\\D}{\\Delta}               $ \n",
    "$\\newcommand{\\la}{\\lambda}             $ \n",
    "$\\renewcommand{\\t}{\\tau}               $ \n",
    "$\\newcommand{\\s}{\\sigma}               $ \n",
    "$\\newcommand{\\e}{\\varepsilon}          $ \n",
    "$\\renewcommand{\\th}{\\theta}            $ \n",
    "$\\newcommand{\\x}{\\bar x}               $ \n",
    "$\\newcommand{\\R}{\\mathbb R}            $ \n",
    "$\\newcommand{\\N}{\\mathbb N}            $ \n",
    "$\\newcommand{\\Z}{\\mathbb Z}            $ \n",
    "$\\newcommand{\\E}{\\mathcal E}           $ \n",
    "$\\newcommand{\\lr}[1]{\\left\\langle #1\\right\\rangle}$\n",
    "$\\newcommand{\\nf}[1]{\\nabla f(#1)}     $\n",
    "$\\newcommand{\\hx}{\\hat x}               $\n",
    "$\\newcommand{\\hy}{\\hat y}               $\n",
    "$\\DeclareMathOperator{\\prox}{prox}      $\n",
    "$\\DeclareMathOperator{\\argmin}{argmin}  $\n",
    "$\\DeclareMathOperator{\\dom}{dom}        $\n",
    "$\\DeclareMathOperator{\\id}{Id}          $\n",
    "$\\DeclareMathOperator{\\conv}{conv}      $\n",
    "\n",
    "We are interested in the following min-max matrix game\n",
    "\\begin{equation}\n",
    "    \\min_{x \\in \\D_n}\\max_{y\\in \\D_m} \\lr{Ax, y},\n",
    "\\end{equation}\n",
    "where $x\\in \\R^n$, $y\\in \\R^m$, $A\\in \\R^{m\\times n}$, and $\\Delta_m$,\n",
    "$\\D_n$ denote the standard unit simplices in $\\R^m$ and $\\R^n$\n",
    "respectively.\n",
    "\n",
    "The variational inequality formulation for this problem is:\n",
    "$$\\lr{F(z^*),z-z^*} + G(z) - G(z^*) \\geq 0 \\quad \\forall z \\in Z,$$\n",
    "where \n",
    "$$Z = \\R^n\\times \\R^m,\\quad z=\\binom{x}{y},\\quad F = \\begin{bmatrix} 0 & A^*\\\\ -A & 0\\end{bmatrix}, \\quad G(z) = \\d_{\\D_n}(x) + \\d_{\\D_m}(y)$$\n"
   ]
  },
  {
   "cell_type": "code",
   "execution_count": 24,
   "metadata": {
    "collapsed": false
   },
   "outputs": [],
   "source": [
    "import matplotlib.pyplot as plt\n",
    "\n",
    "from opt_operators import *\n",
    "from algorithms import *\n",
    "from pd_algorithms import *\n",
    "%reload_ext autoreload\n",
    "%autoreload 2"
   ]
  },
  {
   "cell_type": "markdown",
   "metadata": {},
   "source": [
    "Choose any generator for random generation of data. In the paper we set gen = 100"
   ]
  },
  {
   "cell_type": "code",
   "execution_count": 4,
   "metadata": {
    "collapsed": true
   },
   "outputs": [],
   "source": [
    "gen = 100"
   ]
  },
  {
   "cell_type": "markdown",
   "metadata": {},
   "source": [
    "Define matrix $A\\in \\R^{m\\times n}$ (choose one of four possible examples below or generate a new instance):"
   ]
  },
  {
   "cell_type": "code",
   "execution_count": 5,
   "metadata": {
    "collapsed": true
   },
   "outputs": [],
   "source": [
    "m = 100\n",
    "n = 100\n",
    "np.random.seed(gen)\n",
    "A = np.random.uniform(-1, 1, [m,n])"
   ]
  },
  {
   "cell_type": "code",
   "execution_count": 4,
   "metadata": {
    "collapsed": false
   },
   "outputs": [],
   "source": [
    "m = 100\n",
    "n = 100\n",
    "np.random.seed(gen)\n",
    "A = np.random.normal(0, 1, [m, n])"
   ]
  },
  {
   "cell_type": "code",
   "execution_count": 14,
   "metadata": {
    "collapsed": true
   },
   "outputs": [],
   "source": [
    "m = 500\n",
    "n = 100\n",
    "np.random.seed(gen)\n",
    "A = np.random.normal(0, 10, [m,n])"
   ]
  },
  {
   "cell_type": "code",
   "execution_count": 5,
   "metadata": {
    "collapsed": false
   },
   "outputs": [],
   "source": [
    "m = 100\n",
    "n = 200\n",
    "np.random.seed(gen)\n",
    "A = np.random.uniform(0, 1, [m, n])"
   ]
  },
  {
   "cell_type": "markdown",
   "metadata": {},
   "source": [
    "Define the starting points $x^0$ and $y^0$"
   ]
  },
  {
   "cell_type": "code",
   "execution_count": 15,
   "metadata": {
    "collapsed": true
   },
   "outputs": [],
   "source": [
    "x0 = np.ones(n)/n\n",
    "y0 = np.ones(m)/m\n",
    "z0 = np.hstack((x0, y0))"
   ]
  },
  {
   "cell_type": "markdown",
   "metadata": {},
   "source": [
    "Define all proximal operators, primal-dual gap, etc."
   ]
  },
  {
   "cell_type": "code",
   "execution_count": 16,
   "metadata": {
    "collapsed": false
   },
   "outputs": [],
   "source": [
    "# define general proximal operator. Note that it is independent of \n",
    "# the dimension, so we will use it for both primal and dual variables\n",
    "def prox_g(x, rho):\n",
    "    return proj_simplex(x)\n",
    "\n",
    "# define primal-dual gap\n",
    "def J_gap(x,y):\n",
    "    return max(A.dot(x)) - min(A.T.dot(y))\n",
    "\n",
    "\n",
    "### For variational inequalities formulation (Tseng FBF method and PEGM)\n",
    "\n",
    "def F(z):\n",
    "    u1 = A.T.dot(z[n:])\n",
    "    u2 = -A.dot(z[:n])\n",
    "    return np.hstack((u1, u2))\n",
    "\n",
    "def prox_G(z, rho):\n",
    "    u1 = proj_simplex(z[:n])\n",
    "    u2 = proj_simplex(z[n:])\n",
    "    return np.hstack((u1, u2))\n",
    "\n",
    "def J_vip(z):\n",
    "    return J_gap(z[:n], z[n:])"
   ]
  },
  {
   "cell_type": "markdown",
   "metadata": {},
   "source": [
    "Compute the matrix norm of operator $A$"
   ]
  },
  {
   "cell_type": "code",
   "execution_count": 17,
   "metadata": {
    "collapsed": false
   },
   "outputs": [],
   "source": [
    "L = np.sqrt(np.max(LA.eigh(A.dot(A.T))[0]))"
   ]
  },
  {
   "cell_type": "markdown",
   "metadata": {},
   "source": [
    "Define stepsizes for primal-dual method. For PDAL we use a simple guess $\\t_0 =\\frac{\\sqrt{\\min\\{m,n\\}}}{||A||_F}$"
   ]
  },
  {
   "cell_type": "code",
   "execution_count": 18,
   "metadata": {
    "collapsed": false
   },
   "outputs": [],
   "source": [
    "tau = 1./L\n",
    "sigma = 1./L\n",
    "\n",
    "tau0 = np.sqrt(min(m,n))/LA.norm(A)"
   ]
  },
  {
   "cell_type": "markdown",
   "metadata": {
    "collapsed": false
   },
   "source": [
    "Define number of iterations:"
   ]
  },
  {
   "cell_type": "code",
   "execution_count": 19,
   "metadata": {
    "collapsed": false
   },
   "outputs": [],
   "source": [
    "N = 50000"
   ]
  },
  {
   "cell_type": "markdown",
   "metadata": {},
   "source": [
    "Run the algorithms: PDA, PDAL, Tseng FBF method, and PEGM:"
   ]
  },
  {
   "cell_type": "code",
   "execution_count": 20,
   "metadata": {
    "collapsed": false
   },
   "outputs": [
    {
     "name": "stdout",
     "output_type": "stream",
     "text": [
      "----- Primal-dual method -----\n",
      "Time execution: 12.7101511955\n",
      "----- Primal-dual method with linesearch-----\n",
      "Time execution: 18.0970499516\n",
      "---- FBF ----\n",
      "Number of iterations: 50000\n",
      "Number of gradients, n_grad: 147171\n",
      "Number of prox_g: 97170\n",
      "Time execution: 28.8428061008\n",
      "---- Alg. 2, affine operator ----\n",
      "Number of iterations: 50000\n",
      "Number of gradients, n_grad: 50002\n",
      "Number of prox_g: 50000\n",
      "Time execution: 15.5855660439\n"
     ]
    }
   ],
   "source": [
    "ans1 = pd(J_gap, prox_g, prox_g, A, x0, y0, sigma, tau, numb_iter=N)\n",
    "ans2 = pd_linesearch(J_gap, prox_g, prox_g, A, x0,y0, tau0, 1,   numb_iter=N)\n",
    "ans3 = tseng_fbf_linesearch(J_vip, F, prox_G, z0, delta=1.4, numb_iter=N)\n",
    "ans4 = alg_VI_prox_affine(J_vip, F, prox_G, z0, numb_iter=N)\n"
   ]
  },
  {
   "cell_type": "markdown",
   "metadata": {},
   "source": [
    "Plots of the primal-dual gap vs. number of iterations:"
   ]
  },
  {
   "cell_type": "code",
   "execution_count": 23,
   "metadata": {
    "collapsed": false
   },
   "outputs": [],
   "source": [
    "plt.plot(ans1[0], 'b',)\n",
    "plt.plot(ans2[0], 'r',)\n",
    "plt.plot(ans3[0], 'g',)\n",
    "plt.plot(ans4[0], 'm')\n",
    "plt.yscale('log')\n",
    "plt.show()"
   ]
  },
  {
   "cell_type": "markdown",
   "metadata": {},
   "source": [
    "To make the plots as in the paper, run the following"
   ]
  },
  {
   "cell_type": "code",
   "execution_count": 22,
   "metadata": {
    "collapsed": false
   },
   "outputs": [],
   "source": [
    "import matplotlib as mpl\n",
    "mpl.rc('lines', linewidth=2)\n",
    "mpl.rcParams.update(\n",
    "    {'font.size': 13, 'font.family': 'STIXGeneral', 'mathtext.fontset': 'stix'})\n",
    "mpl.rcParams['xtick.major.pad'] = 2\n",
    "mpl.rcParams['ytick.major.pad'] = 2\n",
    "\n",
    "plt.plot(ans1[0], 'b', label = 'PDA')\n",
    "plt.plot(ans2[0], 'r', label = 'PDAL')\n",
    "plt.plot(ans3[0], 'g', label = 'FBF')\n",
    "plt.plot(ans4[0], 'm', label = 'PEGM')\n",
    "plt.yscale('log')\n",
    "#plt.xscale('log')\n",
    "plt.xlabel(u' iterations ')\n",
    "plt.ylabel(u'PD gap')\n",
    "\n",
    "plt.legend()\n",
    "plt.savefig('figures/minmax-3.pdf')\n",
    "plt.show()"
   ]
  },
  {
   "cell_type": "code",
   "execution_count": null,
   "metadata": {
    "collapsed": true
   },
   "outputs": [],
   "source": []
  }
 ],
 "metadata": {
  "kernelspec": {
   "display_name": "Python 2",
   "language": "python",
   "name": "python2"
  },
  "language_info": {
   "codemirror_mode": {
    "name": "ipython",
    "version": 2
   },
   "file_extension": ".py",
   "mimetype": "text/x-python",
   "name": "python",
   "nbconvert_exporter": "python",
   "pygments_lexer": "ipython2",
   "version": "2.7.6"
  }
 },
 "nbformat": 4,
 "nbformat_minor": 0
}
