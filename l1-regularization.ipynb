{
 "cells": [
  {
   "cell_type": "markdown",
   "metadata": {
    "autoscroll": "json-false",
    "collapsed": false,
    "ein.tags": [
     "worksheet-0"
    ]
   },
   "source": [
    "# $l_1$--regularization\n",
    "$\\newcommand{\\n}[1]{\\left\\|#1 \\right\\|}$ \n",
    "$\\renewcommand{\\a}{\\alpha}             $ \n",
    "$\\renewcommand{\\b}{\\beta}              $ \n",
    "$\\renewcommand{\\c}{\\gamma}             $ \n",
    "$\\renewcommand{\\d}{\\delta}             $ \n",
    "$\\newcommand{\\D}{\\Delta}               $ \n",
    "$\\newcommand{\\la}{\\lambda}             $ \n",
    "$\\renewcommand{\\t}{\\tau}               $ \n",
    "$\\newcommand{\\s}{\\sigma}               $ \n",
    "$\\newcommand{\\e}{\\varepsilon}          $ \n",
    "$\\renewcommand{\\th}{\\theta}            $ \n",
    "$\\newcommand{\\x}{\\bar x}               $ \n",
    "$\\newcommand{\\R}{\\mathbb R}            $ \n",
    "$\\newcommand{\\N}{\\mathbb N}            $ \n",
    "$\\newcommand{\\Z}{\\mathbb Z}            $ \n",
    "$\\newcommand{\\E}{\\mathcal E}           $ \n",
    "$\\newcommand{\\lr}[1]{\\left\\langle #1\\right\\rangle}$\n",
    "$\\newcommand{\\nf}[1]{\\nabla f(#1)}     $\n",
    "$\\newcommand{\\hx}{\\hat x}               $\n",
    "$\\newcommand{\\hy}{\\hat y}               $\n",
    "$\\DeclareMathOperator{\\prox}{prox}      $\n",
    "$\\DeclareMathOperator{\\argmin}{argmin}  $\n",
    "$\\DeclareMathOperator{\\dom}{dom}        $\n",
    "$\\DeclareMathOperator{\\id}{Id}          $\n",
    "$\\DeclareMathOperator{\\conv}{conv}      $\n",
    "\n",
    "We want to minimize:\n",
    "$$\n",
    "\\min_x \\frac 1 2 ||Ax-b||^2 + \\lambda  ||x||_1 =: f(Ax)+g(x),\n",
    "$$\n",
    "where $A\\in \\R^{m\\times n}$ is a matrix data, $b\\in \\R^m$ is a given observation, and $x\\in \\R^n$ is an unknown signal.\n",
    "\n",
    "We can rewrite the problem above in a primal-dual form as follows:\n",
    "$$\n",
    "\\min_x \\max_y g(x)+(Ax,y)-f^*(y),\n",
    "$$\n",
    "where $f(x) = \\frac 1 2 ||x-b||^2$, $f^*(y) = \\frac 1 2 ||y||^2 + (b,y) = \\frac 1 2 ||y+b||^2 -\\frac{1}{2}||b||^2$ and $g(x) = \\lambda ||x||_1$.\n",
    "\n",
    "For the problem in a primal-dual form we apply primal-dual methods and for the problem in a primal form we apply proximal gradient method and FISTA. For this we set $h(x) = f(Ax)$ and get $\\nabla h(x) = A^*(Ax-b)$."
   ]
  },
  {
   "cell_type": "code",
   "execution_count": 26,
   "metadata": {
    "collapsed": false
   },
   "outputs": [],
   "source": [
    "import matplotlib.pyplot as plt\n",
    "\n",
    "from opt_operators import *\n",
    "from algorithms import *\n",
    "from pd_algorithms import *\n",
    "\n",
    "%reload_ext autoreload\n",
    "%autoreload 2"
   ]
  },
  {
   "cell_type": "markdown",
   "metadata": {},
   "source": [
    "We construct our data in one of the following ways below. We will use a fixed random generator for all our data to make experiments reproducible."
   ]
  },
  {
   "cell_type": "code",
   "execution_count": 2,
   "metadata": {
    "collapsed": true
   },
   "outputs": [],
   "source": [
    "gen = 100"
   ]
  },
  {
   "cell_type": "code",
   "execution_count": 3,
   "metadata": {
    "collapsed": false
   },
   "outputs": [],
   "source": [
    "n = 1000\n",
    "m = 200\n",
    "s = 10\n",
    "la = 0.1\n",
    "\n",
    "np.random.seed(gen)\n",
    "A = np.random.normal(0,1, (m,n))\n",
    "np.random.seed(gen)\n",
    "w = np.random.uniform(-10,10, n)\n",
    "w[s:] = 0\n",
    "np.random.seed(gen)\n",
    "w = np.random.permutation(w)"
   ]
  },
  {
   "cell_type": "code",
   "execution_count": 3,
   "metadata": {
    "collapsed": false
   },
   "outputs": [],
   "source": [
    "n = 2000\n",
    "m = 1000\n",
    "s = 100\n",
    "la = 0.1\n",
    "\n",
    "np.random.seed(gen)\n",
    "A = np.random.normal(0,1, (m,n))\n",
    "\n",
    "np.random.seed(gen)\n",
    "w = np.random.normal(0,1, n)\n",
    "w[s:] = 0\n",
    "np.random.seed(gen)\n",
    "w = np.random.permutation(w)"
   ]
  },
  {
   "cell_type": "markdown",
   "metadata": {},
   "source": [
    "For the problem below we took $p = 0.5$ or $p = 0.9$"
   ]
  },
  {
   "cell_type": "code",
   "execution_count": 32,
   "metadata": {
    "collapsed": false
   },
   "outputs": [],
   "source": [
    "n = 5000\n",
    "m = 1000\n",
    "s = 50\n",
    "la = 0.1\n",
    "\n",
    "np.random.seed(gen)\n",
    "B = np.random.normal(0,1, (m,n))\n",
    "p = 0.5\n",
    "A = np.zeros((m,n))\n",
    "A[:,0] = B[:,0]/np.sqrt(1-p**2)\n",
    "for j in np.arange(1,n):\n",
    "    A[:,j] = p*A[:,j-1] + B[:,j]\n",
    "\n",
    "np.random.seed(gen)\n",
    "w = np.random.uniform(-10,10, n)\n",
    "w[s:] = 0\n",
    "np.random.seed(gen)\n",
    "w = np.random.permutation(w)"
   ]
  },
  {
   "cell_type": "markdown",
   "metadata": {},
   "source": [
    "Define $\\nu$ and $b$"
   ]
  },
  {
   "cell_type": "code",
   "execution_count": 13,
   "metadata": {
    "collapsed": true
   },
   "outputs": [],
   "source": [
    "np.random.seed(gen)\n",
    "nu = np.random.normal(0,0.1, m)\n",
    "b = A.dot(w) + nu"
   ]
  },
  {
   "cell_type": "markdown",
   "metadata": {},
   "source": [
    "Define all ingredients for primal-dual methods and proximal gradient-like"
   ]
  },
  {
   "cell_type": "code",
   "execution_count": 14,
   "metadata": {
    "autoscroll": "json-false",
    "collapsed": false,
    "ein.tags": [
     "worksheet-0"
    ]
   },
   "outputs": [],
   "source": [
    "def f_conj(y):\n",
    "    return 0.5*(y+b).dot(y+b)\n",
    "\n",
    "def g(x):\n",
    "    return la*LA.norm(x,1)\n",
    "\n",
    "def prox_g(x, rho):\n",
    "    return prox_norm_1(x,la*rho)\n",
    "\n",
    "def prox_f_conj(y, rho):\n",
    "    return (y - rho*b)/(1+rho)\n",
    "\n",
    "# define energy \n",
    "def J(x,y):\n",
    "    t = A.dot(x)-b\n",
    "    return 0.5* t.dot(t) + la* LA.norm(x,1)\n",
    "\n",
    "\n",
    "\n",
    "#### for proximal gradient method and FISTA\n",
    "def dh(x):\n",
    "    return A.T.dot(A.dot(x)-b)\n",
    "\n",
    "def F(x):\n",
    "    return J(x,1)"
   ]
  },
  {
   "cell_type": "markdown",
   "metadata": {
    "collapsed": false
   },
   "source": [
    "Compute matrix norm of operator $A$. This may be long if you consider large-scale problems."
   ]
  },
  {
   "cell_type": "code",
   "execution_count": 15,
   "metadata": {
    "autoscroll": "json-false",
    "collapsed": false,
    "ein.tags": [
     "worksheet-0"
    ]
   },
   "outputs": [],
   "source": [
    "L = np.sqrt(np.max(LA.eigh(A.dot(A.T))[0]))"
   ]
  },
  {
   "cell_type": "code",
   "execution_count": 22,
   "metadata": {
    "autoscroll": "json-false",
    "collapsed": false,
    "ein.tags": [
     "worksheet-0"
    ]
   },
   "outputs": [],
   "source": [
    "# number of iterations\n",
    "N = 10000\n",
    "\n",
    "# starting points\n",
    "x0 = np.zeros(n)\n",
    "y0 = -b\n",
    "\n",
    "# step size for PDA\n",
    "tau = 1./L\n",
    "sigma = 1./L\n",
    "\n",
    "# step size for PDAL (doesn't require any expensive computation)\n",
    "tau0 = np.sqrt(m)/LA.norm(A)\n",
    "\n",
    "# step size for PGM and FISTA\n",
    "alpha = 1./L**2"
   ]
  },
  {
   "cell_type": "code",
   "execution_count": null,
   "metadata": {
    "collapsed": false
   },
   "outputs": [],
   "source": [
    "ans1 = pd(J, prox_g, prox_f_conj, A, x0, y0, 0.05*sigma, 20*tau, numb_iter=N)\n",
    "ans2 =  pd_linesearch_dual_is_square_norm(J, prox_g, -b, A, x0, y0 , tau, 1./400, numb_iter=N)\n",
    "ans3 = fista(F, dh, prox_g, x0, alpha, numb_iter=N)\n",
    "ans4 = prox_grad(F, dh, prox_g, x0, alpha, numb_iter=N)"
   ]
  },
  {
   "cell_type": "markdown",
   "metadata": {},
   "source": [
    "To see the plots of residual $f(Ax)+g(x) - f(Ax^*)-g(x^*)$. For simplicity, we just set $f(Ax^*)+g(x^*)$ as the smallest number among all energy values for all methods during all iterations. Alternatively, you can increase number of iterations to obtain even better ground truth solution."
   ]
  },
  {
   "cell_type": "code",
   "execution_count": 24,
   "metadata": {
    "collapsed": false
   },
   "outputs": [],
   "source": [
    "t = min(ans1[0]+ans2[0]+ans3[0]+ans4[0])\n",
    "\n",
    "plt.plot(ans1[0]-t, 'b',)\n",
    "plt.plot(ans2[0]-t, 'r',)\n",
    "plt.plot(ans3[0]-t, 'c',)\n",
    "plt.plot(ans4[0]-t, 'g',)\n",
    "plt.yscale('log')\n",
    "plt.show()"
   ]
  },
  {
   "cell_type": "markdown",
   "metadata": {
    "collapsed": false
   },
   "source": [
    "Check how sparse is your solution and how it is different from $w$:"
   ]
  },
  {
   "cell_type": "code",
   "execution_count": 25,
   "metadata": {
    "collapsed": false
   },
   "outputs": [],
   "source": [
    "plt.plot(w, 'g')\n",
    "plt.plot(ans2[1], 'k')\n",
    "plt.show()"
   ]
  },
  {
   "cell_type": "markdown",
   "metadata": {
    "collapsed": true
   },
   "source": [
    "Nice plots as in the paper:"
   ]
  },
  {
   "cell_type": "code",
   "execution_count": 11,
   "metadata": {
    "autoscroll": "json-false",
    "collapsed": false,
    "ein.tags": [
     "worksheet-0"
    ]
   },
   "outputs": [],
   "source": [
    "import matplotlib as mpl\n",
    "mpl.rc('lines', linewidth=2)\n",
    "mpl.rcParams.update(\n",
    "    {'font.size': 13, 'font.family': 'STIXGeneral', 'mathtext.fontset': 'stix'})\n",
    "mpl.rcParams['xtick.major.pad'] = 2\n",
    "mpl.rcParams['ytick.major.pad'] = 2\n",
    "\n",
    "t = min(ans1[0]+ans2[0]+ans3[0]+ans4[0])\n",
    "#r = 10000\n",
    "plt.plot(ans1[0]-t, 'b',label = 'PDA')\n",
    "plt.plot(ans2[0]-t, 'r', label = 'PDAL')\n",
    "plt.plot(ans3[0]-t, 'c',label = 'FISTA')\n",
    "plt.plot(ans4[0]-t, 'g',label = 'PGM')\n",
    "plt.yscale('log')\n",
    "#plt.xscale('log')\n",
    "plt.xlabel(u' iterations ')\n",
    "plt.ylabel('$\\phi(x)-\\phi^*$')\n",
    "\n",
    "plt.legend()\n",
    "plt.savefig('figures/lasso-2.pdf')\n",
    "plt.show()"
   ]
  }
 ],
 "metadata": {
  "kernelspec": {
   "display_name": "Python 2",
   "language": "python",
   "name": "python2"
  },
  "language_info": {
   "codemirror_mode": {
    "name": "ipython",
    "version": 2
   },
   "file_extension": ".py",
   "mimetype": "text/x-python",
   "name": "python",
   "nbconvert_exporter": "python",
   "pygments_lexer": "ipython2",
   "version": "2.7.6"
  }
 },
 "nbformat": 4,
 "nbformat_minor": 0
}
