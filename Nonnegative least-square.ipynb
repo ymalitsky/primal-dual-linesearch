{
 "cells": [
  {
   "cell_type": "markdown",
   "metadata": {
    "autoscroll": "json-false",
    "collapsed": false,
    "ein.tags": [
     "worksheet-0"
    ]
   },
   "source": [
    "# Nonnegative least square\n",
    "$\\newcommand{\\n}[1]{\\left\\|#1 \\right\\|}$ \n",
    "$\\renewcommand{\\a}{\\alpha}             $ \n",
    "$\\renewcommand{\\b}{\\beta}              $ \n",
    "$\\renewcommand{\\c}{\\gamma}             $ \n",
    "$\\renewcommand{\\d}{\\delta}             $ \n",
    "$\\newcommand{\\D}{\\Delta}               $ \n",
    "$\\newcommand{\\la}{\\lambda}             $ \n",
    "$\\renewcommand{\\t}{\\tau}               $ \n",
    "$\\newcommand{\\s}{\\sigma}               $ \n",
    "$\\newcommand{\\e}{\\varepsilon}          $ \n",
    "$\\renewcommand{\\th}{\\theta}            $ \n",
    "$\\newcommand{\\x}{\\bar x}               $ \n",
    "$\\newcommand{\\R}{\\mathbb R}            $ \n",
    "$\\newcommand{\\N}{\\mathbb N}            $ \n",
    "$\\newcommand{\\Z}{\\mathbb Z}            $ \n",
    "$\\newcommand{\\E}{\\mathcal E}           $ \n",
    "$\\newcommand{\\lr}[1]{\\left\\langle #1\\right\\rangle}$\n",
    "$\\newcommand{\\nf}[1]{\\nabla f(#1)}     $\n",
    "$\\newcommand{\\hx}{\\hat x}               $\n",
    "$\\newcommand{\\hy}{\\hat y}               $\n",
    "$\\DeclareMathOperator{\\prox}{prox}      $\n",
    "$\\DeclareMathOperator{\\argmin}{argmin}  $\n",
    "$\\DeclareMathOperator{\\dom}{dom}        $\n",
    "$\\DeclareMathOperator{\\id}{Id}          $\n",
    "$\\DeclareMathOperator{\\conv}{conv}      $\n",
    "\n",
    "We are interested in the nonnegative least square problem\n",
    "\\begin{align*}\n",
    "\\min_x &  ||Ax-b||^2\\\\\n",
    "    \\text{subj. to } & x \\geq 0.\n",
    "\\end{align*}\n",
    "Alternatively, we can write it as \n",
    "$$\\min_x \\frac 1 2 ||Ax-b||^2 + \\delta_{x\\geq 0}=: f(Ax)+g(x)$$\n",
    "or in a primal-dual form\n",
    "$$\\min_x \\max_y g(x)+(Ax,y)-f^*(y),$$\n",
    "where $f(x) = \\frac 1 2 ||x-b||^2$, $f^*(y) = \\frac 1 2 ||y||^2 + (b,y) = \\frac 1 2 ||y+b||^2 -\\frac{1}{2}||b||^2$, $g(x) = \\delta_{\\R^n_+}(x)$.\n",
    "\n",
    "In order to apply proximal gradient method of FISTA we have to define $h(x) = f(Ax) = \\frac 1 2 ||Ax-b||^2$. Then $\\nabla h(x) = A^*(Ax-b)$."
   ]
  },
  {
   "cell_type": "code",
   "execution_count": 9,
   "metadata": {
    "collapsed": true
   },
   "outputs": [],
   "source": [
    "import scipy.sparse as sr\n",
    "import scipy.sparse.linalg as la\n",
    "import matplotlib.pyplot as plt\n",
    "from scipy import  io\n",
    "from opt_operators import *\n",
    "from algorithms import *\n",
    "from pd_algorithms import *\n",
    "%reload_ext autoreload\n",
    "%autoreload 2"
   ]
  },
  {
   "cell_type": "markdown",
   "metadata": {},
   "source": [
    "Choose any instance of the problems below. The data is taken from http://math.nist.gov/MatrixMarket/"
   ]
  },
  {
   "cell_type": "code",
   "execution_count": 3,
   "metadata": {
    "collapsed": false
   },
   "outputs": [],
   "source": [
    "A = io.mmread(\"real_data/well1033.mtx\")\n",
    "#A = io.mmread(\"real_data/well1850.mtx\")\n",
    "#A = io.mmread(\"real_data/illc1033.mtx\")\n",
    "#A = io.mmread(\"real_data/illc1850.mtx\")\n",
    "\n",
    "m,n = A.shape\n",
    "\n",
    "gen = 100\n",
    "np.random.seed(gen)\n",
    "b = np.random.normal(0,1,m)"
   ]
  },
  {
   "cell_type": "markdown",
   "metadata": {},
   "source": [
    "Define all proximal operators, energy $J$, and gradient $\\nabla h$ for proximal gradient-like methods"
   ]
  },
  {
   "cell_type": "code",
   "execution_count": 4,
   "metadata": {
    "autoscroll": "json-false",
    "collapsed": false,
    "ein.tags": [
     "worksheet-0"
    ]
   },
   "outputs": [],
   "source": [
    "def prox_g(x, rho):\n",
    "    return np.fmax(x, 0)\n",
    "\n",
    "def prox_f_conj(y, rho):\n",
    "    return (y - rho*b)/(1+rho)\n",
    "\n",
    "def J(x,y):\n",
    "    t = A.dot(x)-b\n",
    "    return 0.5*t.dot(t)\n",
    "\n",
    "# We need the following in order to apply accelerated primal-dual with strongly convex primal term.\n",
    "def J1(y,x):\n",
    "    return J(x,y)\n",
    "\n",
    "#### for FISTA\n",
    "def dh(x):\n",
    "    return A.T.dot(A.dot(x)-b)\n",
    "\n",
    "def F(x):\n",
    "    return J(x,1)"
   ]
  },
  {
   "cell_type": "markdown",
   "metadata": {},
   "source": [
    "Compute matrix norm (expensive in general) and Frobenius norm (cheap)"
   ]
  },
  {
   "cell_type": "code",
   "execution_count": 5,
   "metadata": {
    "autoscroll": "json-false",
    "collapsed": false,
    "ein.tags": [
     "worksheet-0"
    ]
   },
   "outputs": [],
   "source": [
    "# find the largest eigenvalue:\n",
    "max_eig = np.real((la.eigs(A.dot(A.T), k=1)[0]))[0]\n",
    "# find matrix norm\n",
    "L = np.sqrt(max_eig)\n",
    "1./L\n",
    "\n",
    "# find Frobenius norm (this is very cheap)\n",
    "L_F = LA.norm(A.todense())"
   ]
  },
  {
   "cell_type": "markdown",
   "metadata": {},
   "source": [
    "Define number of iterations, starting points, and initial step sizes"
   ]
  },
  {
   "cell_type": "code",
   "execution_count": 6,
   "metadata": {
    "autoscroll": "json-false",
    "collapsed": false,
    "ein.tags": [
     "worksheet-0"
    ]
   },
   "outputs": [],
   "source": [
    "N = 500\n",
    "\n",
    "x0 = np.zeros(n)\n",
    "y0 = -b\n",
    "\n",
    "# for PDA\n",
    "tau = 1./L\n",
    "sigma = 1./L\n",
    "\n",
    "alpha = 1./L**2 # for FISTA\n",
    "tau0 = np.sqrt(min(m,n))/L_F  # for PDAL"
   ]
  },
  {
   "cell_type": "code",
   "execution_count": 7,
   "metadata": {
    "autoscroll": "json-false",
    "collapsed": false,
    "ein.tags": [
     "worksheet-0"
    ]
   },
   "outputs": [
    {
     "name": "stdout",
     "output_type": "stream",
     "text": [
      "----- Primal-dual method -----\n",
      "Time execution: 0.0845639705658\n",
      "----- Primal-dual method with  linesearch. f^*(y)=0.5*||y-b||^2-----\n",
      "Time execution: 0.101423978806\n",
      "----- Accelerated primal-dual method (g(x) is strongly convex)-----\n",
      "Time execution: 0.0756549835205\n",
      "----- Accelerated primal-dual method with linesearch (f^* is strongly convex) -----\n",
      "Time execution: 0.186081886292\n",
      "---- FISTA----\n",
      "Time execution: 0.0701711177826\n"
     ]
    }
   ],
   "source": [
    "ans1 = pd(J, prox_g, prox_f_conj, A, x0, y0, sigma, tau, numb_iter=N)\n",
    "ans2 = pd_linesearch_dual_is_square_norm(J, prox_g, -b, A, x0, y0, tau0, 1., numb_iter=N)\n",
    "ans3 = pd_accelerated_primal(J1, prox_f_conj, prox_g, -A.T, y0, x0, tau, sigma, 0.5,   numb_iter=N)\n",
    "ans4 = pd_linesearch_acceler_dual(J, prox_g, prox_f_conj, A, x0, y0, tau0, 1, 0.5,  numb_iter=N)\n",
    "ans5 = fista(F, dh, prox_g, x0, alpha, numb_iter=N)"
   ]
  },
  {
   "cell_type": "code",
   "execution_count": 8,
   "metadata": {
    "autoscroll": "json-false",
    "collapsed": false,
    "ein.tags": [
     "worksheet-0"
    ]
   },
   "outputs": [],
   "source": [
    "t = min(ans1[0]+ans2[0]+ans3[0]+ans4[0]+ans5[0])\n",
    "plt.plot(ans1[0]-t, 'b',)\n",
    "plt.plot(ans2[0]-t, 'r',)\n",
    "plt.plot(ans3[0]-t, 'k',)\n",
    "plt.plot(ans4[0]-t, 'g',)\n",
    "plt.plot(ans5[0]-t, 'm',)\n",
    "\n",
    "plt.yscale('log')\n",
    "plt.show()"
   ]
  },
  {
   "cell_type": "markdown",
   "metadata": {
    "collapsed": false
   },
   "source": [
    "To make nicer plots:"
   ]
  },
  {
   "cell_type": "code",
   "execution_count": 91,
   "metadata": {
    "autoscroll": "json-false",
    "collapsed": false,
    "ein.tags": [
     "worksheet-0"
    ]
   },
   "outputs": [],
   "source": [
    "import matplotlib as mpl\n",
    "mpl.rc('lines', linewidth=2)\n",
    "mpl.rcParams.update(\n",
    "    {'font.size': 13, 'font.family': 'STIXGeneral', 'mathtext.fontset': 'stix'})\n",
    "mpl.rcParams['xtick.major.pad'] = 2\n",
    "mpl.rcParams['ytick.major.pad'] = 2\n",
    "\n",
    "t = min(ans1[0]+ans2[0]+ans3[0]+ans4[0]+ans5[0])\n",
    "plt.plot(ans1[0]-t, 'b',label = 'PDA')\n",
    "plt.plot(ans2[0]-t, 'r', label = 'PDAL')\n",
    "plt.plot(ans3[0]-t, 'k',label = 'APDA')\n",
    "plt.plot(ans4[0]-t, 'g', label = 'APDAL')\n",
    "plt.plot(ans5[0]-t, 'm',label = 'FISTA')\n",
    "plt.yscale('log')\n",
    "#plt.xscale('log')\n",
    "plt.xlabel(u' iterations ')\n",
    "plt.ylabel('$\\phi(x)-\\phi^*$')\n",
    "\n",
    "plt.legend()\n",
    "plt.savefig('figures/nonneg-1.pdf')\n",
    "plt.show()"
   ]
  }
 ],
 "metadata": {
  "kernelspec": {
   "display_name": "Python 2",
   "language": "python",
   "name": "python2"
  },
  "language_info": {
   "codemirror_mode": {
    "name": "ipython",
    "version": 2
   },
   "file_extension": ".py",
   "mimetype": "text/x-python",
   "name": "python",
   "nbconvert_exporter": "python",
   "pygments_lexer": "ipython2",
   "version": "2.7.6"
  }
 },
 "nbformat": 4,
 "nbformat_minor": 0
}
